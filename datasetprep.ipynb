{
 "cells": [
  {
   "cell_type": "code",
   "execution_count": 16,
   "metadata": {},
   "outputs": [],
   "source": [
    "import pandas as pd\n",
    "import numpy as np\n",
    "from datetime import datetime, timedelta\n",
    "\n",
    "# Generate synthetic data\n",
    "np.random.seed(42)\n",
    "n_samples = 2000\n",
    "fraud_ratio = 0.03\n",
    "n_frauds = int(n_samples * fraud_ratio)\n",
    "\n"
   ]
  },
  {
   "cell_type": "code",
   "execution_count": 17,
   "metadata": {},
   "outputs": [],
   "source": [
    "data = {\n",
    "    'TransactionID': np.arange(1, n_samples + 1),\n",
    "    'CustomerID': np.random.randint(1000, 1100, n_samples),\n",
    "    'TransactionDateTime': [datetime.now() - timedelta(seconds=int(x)) for x in np.random.randint(1, 100000, n_samples)],\n",
    "    'TransactionAmount': np.round(np.random.uniform(1, 1000, n_samples), 2),\n",
    "    'MerchantID': np.random.randint(2000, 2100, n_samples),\n",
    "    'MerchantCategory': np.random.choice(['Electronics', 'Grocery', 'Clothing', 'Deisel', 'Furniture'], n_samples),\n",
    "    'TransactionLocation': np.random.choice(['New York', 'Los Angeles', 'Boston', 'Miami', 'San Francisco'], n_samples),\n",
    "    'CardType': np.random.choice(['Visa', 'MasterCard', 'AMEX'], n_samples),\n",
    "    'DeviceType': np.random.choice(['Mobile', 'Desktop', 'ATM'], n_samples),\n",
    "    'PreviousTransactionAmount': np.round(np.random.uniform(1, 1000, n_samples), 3),\n",
    "    'TransactionChannel': np.random.choice(['Online', 'In-store'], n_samples),\n",
    "    # 'FraudLabel': [1 if i < n_frauds else 0 for i in range(n_samples)]\n",
    "}"
   ]
  },
  {
   "cell_type": "code",
   "execution_count": 18,
   "metadata": {},
   "outputs": [
    {
     "name": "stdout",
     "output_type": "stream",
     "text": [
      "TransactionID 2000\n",
      "CustomerID 2000\n",
      "TransactionDateTime 2000\n",
      "TransactionAmount 2000\n",
      "MerchantID 2000\n",
      "MerchantCategory 2000\n",
      "TransactionLocation 2000\n",
      "CardType 2000\n",
      "DeviceType 2000\n",
      "PreviousTransactionAmount 2000\n",
      "TransactionChannel 2000\n"
     ]
    }
   ],
   "source": [
    "for i,j in data.items():\n",
    "    print(f'{i}',len(j))"
   ]
  },
  {
   "cell_type": "code",
   "execution_count": 19,
   "metadata": {},
   "outputs": [
    {
     "data": {
      "text/html": [
       "<div>\n",
       "<style scoped>\n",
       "    .dataframe tbody tr th:only-of-type {\n",
       "        vertical-align: middle;\n",
       "    }\n",
       "\n",
       "    .dataframe tbody tr th {\n",
       "        vertical-align: top;\n",
       "    }\n",
       "\n",
       "    .dataframe thead th {\n",
       "        text-align: right;\n",
       "    }\n",
       "</style>\n",
       "<table border=\"1\" class=\"dataframe\">\n",
       "  <thead>\n",
       "    <tr style=\"text-align: right;\">\n",
       "      <th></th>\n",
       "      <th>TransactionID</th>\n",
       "      <th>CustomerID</th>\n",
       "      <th>TransactionDateTime</th>\n",
       "      <th>TransactionAmount</th>\n",
       "      <th>MerchantID</th>\n",
       "      <th>MerchantCategory</th>\n",
       "      <th>TransactionLocation</th>\n",
       "      <th>CardType</th>\n",
       "      <th>DeviceType</th>\n",
       "      <th>PreviousTransactionAmount</th>\n",
       "      <th>TransactionChannel</th>\n",
       "    </tr>\n",
       "  </thead>\n",
       "  <tbody>\n",
       "    <tr>\n",
       "      <th>0</th>\n",
       "      <td>200001</td>\n",
       "      <td>1051</td>\n",
       "      <td>2024-07-13 02:30:43.240690</td>\n",
       "      <td>549.43</td>\n",
       "      <td>2070</td>\n",
       "      <td>Electronics</td>\n",
       "      <td>New York</td>\n",
       "      <td>Visa</td>\n",
       "      <td>ATM</td>\n",
       "      <td>984.483</td>\n",
       "      <td>In-store</td>\n",
       "    </tr>\n",
       "    <tr>\n",
       "      <th>1</th>\n",
       "      <td>200002</td>\n",
       "      <td>1092</td>\n",
       "      <td>2024-07-12 22:57:53.240690</td>\n",
       "      <td>220.05</td>\n",
       "      <td>2001</td>\n",
       "      <td>Deisel</td>\n",
       "      <td>Boston</td>\n",
       "      <td>Visa</td>\n",
       "      <td>Mobile</td>\n",
       "      <td>557.399</td>\n",
       "      <td>Online</td>\n",
       "    </tr>\n",
       "    <tr>\n",
       "      <th>2</th>\n",
       "      <td>200003</td>\n",
       "      <td>1014</td>\n",
       "      <td>2024-07-13 02:46:23.240690</td>\n",
       "      <td>34.64</td>\n",
       "      <td>2055</td>\n",
       "      <td>Grocery</td>\n",
       "      <td>San Francisco</td>\n",
       "      <td>MasterCard</td>\n",
       "      <td>Desktop</td>\n",
       "      <td>661.457</td>\n",
       "      <td>Online</td>\n",
       "    </tr>\n",
       "    <tr>\n",
       "      <th>3</th>\n",
       "      <td>200004</td>\n",
       "      <td>1071</td>\n",
       "      <td>2024-07-12 16:50:23.240690</td>\n",
       "      <td>215.41</td>\n",
       "      <td>2059</td>\n",
       "      <td>Clothing</td>\n",
       "      <td>Los Angeles</td>\n",
       "      <td>AMEX</td>\n",
       "      <td>Mobile</td>\n",
       "      <td>333.438</td>\n",
       "      <td>Online</td>\n",
       "    </tr>\n",
       "    <tr>\n",
       "      <th>4</th>\n",
       "      <td>200005</td>\n",
       "      <td>1060</td>\n",
       "      <td>2024-07-12 11:00:25.240690</td>\n",
       "      <td>416.71</td>\n",
       "      <td>2022</td>\n",
       "      <td>Grocery</td>\n",
       "      <td>Boston</td>\n",
       "      <td>MasterCard</td>\n",
       "      <td>ATM</td>\n",
       "      <td>382.733</td>\n",
       "      <td>In-store</td>\n",
       "    </tr>\n",
       "  </tbody>\n",
       "</table>\n",
       "</div>"
      ],
      "text/plain": [
       "   TransactionID  CustomerID        TransactionDateTime  TransactionAmount  \\\n",
       "0         200001        1051 2024-07-13 02:30:43.240690             549.43   \n",
       "1         200002        1092 2024-07-12 22:57:53.240690             220.05   \n",
       "2         200003        1014 2024-07-13 02:46:23.240690              34.64   \n",
       "3         200004        1071 2024-07-12 16:50:23.240690             215.41   \n",
       "4         200005        1060 2024-07-12 11:00:25.240690             416.71   \n",
       "\n",
       "   MerchantID MerchantCategory TransactionLocation    CardType DeviceType  \\\n",
       "0        2070      Electronics            New York        Visa        ATM   \n",
       "1        2001           Deisel              Boston        Visa     Mobile   \n",
       "2        2055          Grocery       San Francisco  MasterCard    Desktop   \n",
       "3        2059         Clothing         Los Angeles        AMEX     Mobile   \n",
       "4        2022          Grocery              Boston  MasterCard        ATM   \n",
       "\n",
       "   PreviousTransactionAmount TransactionChannel  \n",
       "0                    984.483           In-store  \n",
       "1                    557.399             Online  \n",
       "2                    661.457             Online  \n",
       "3                    333.438             Online  \n",
       "4                    382.733           In-store  "
      ]
     },
     "execution_count": 19,
     "metadata": {},
     "output_type": "execute_result"
    }
   ],
   "source": [
    "\n",
    "df =pd.DataFrame(data)\n",
    "df['TransactionID'] = [x+200000 for x in df['TransactionID']]\n",
    "\n",
    "df.head()\n",
    "# Save the dataset to a CSV file\n"
   ]
  },
  {
   "cell_type": "code",
   "execution_count": 20,
   "metadata": {},
   "outputs": [
    {
     "name": "stdout",
     "output_type": "stream",
     "text": [
      "Dataset created and saved to 'credit_card_fraud_dataset_test.csv'\n"
     ]
    }
   ],
   "source": [
    "df.to_csv('credit_card_fraud_dataset_test.csv', index=False)\n",
    "\n",
    "print(\"Dataset created and saved to 'credit_card_fraud_dataset_test.csv'\")"
   ]
  }
 ],
 "metadata": {
  "kernelspec": {
   "display_name": "Python 3",
   "language": "python",
   "name": "python3"
  },
  "language_info": {
   "codemirror_mode": {
    "name": "ipython",
    "version": 3
   },
   "file_extension": ".py",
   "mimetype": "text/x-python",
   "name": "python",
   "nbconvert_exporter": "python",
   "pygments_lexer": "ipython3",
   "version": "3.12.1"
  }
 },
 "nbformat": 4,
 "nbformat_minor": 2
}
