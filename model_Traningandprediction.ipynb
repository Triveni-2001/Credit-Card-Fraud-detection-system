{
 "cells": [
  {
   "cell_type": "markdown",
   "metadata": {},
   "source": [
    "Model Traning"
   ]
  },
  {
   "cell_type": "code",
   "execution_count": 4,
   "metadata": {},
   "outputs": [
    {
     "data": {
      "image/png": "[encoded data removed]",
      "text/plain": [
       "<Figure size 480x480 with 1 Axes>"
      ]
     },
     "metadata": {},
     "output_type": "display_data"
    },
    {
     "name": "stdout",
     "output_type": "stream",
     "text": [
      "                           TransactionAmount  PreviousTransactionAmount\n",
      "TransactionAmount                   1.000000                   0.001953\n",
      "PreviousTransactionAmount           0.001953                   1.000000\n",
      "K-Nearest Neighbors Classification Report\n",
      "              precision    recall  f1-score   support\n",
      "\n",
      "           0       0.66      0.56      0.61     27889\n",
      "           1       0.62      0.71      0.66     28111\n",
      "\n",
      "    accuracy                           0.64     56000\n",
      "   macro avg       0.64      0.64      0.63     56000\n",
      "weighted avg       0.64      0.64      0.63     56000\n",
      "\n",
      "Confusion Matrix\n",
      "[[15665 12224]\n",
      " [ 8172 19939]]\n",
      "Logistic Regression Classification Report\n",
      "              precision    recall  f1-score   support\n",
      "\n",
      "           0       0.50      0.60      0.54     27889\n",
      "           1       0.50      0.40      0.44     28111\n",
      "\n",
      "    accuracy                           0.50     56000\n",
      "   macro avg       0.50      0.50      0.49     56000\n",
      "weighted avg       0.50      0.50      0.49     56000\n",
      "\n",
      "Confusion Matrix\n",
      "[[16763 11126]\n",
      " [16892 11219]]\n"
     ]
    }
   ],
   "source": [
    "# Import necessary libraries\n",
    "import pandas as pd\n",
    "import numpy as np\n",
    "from sklearn.model_selection import train_test_split\n",
    "from sklearn.preprocessing import StandardScaler, LabelEncoder\n",
    "from sklearn.neighbors import KNeighborsClassifier\n",
    "from sklearn.linear_model import LogisticRegression\n",
    "from sklearn.metrics import classification_report, confusion_matrix\n",
    "from imblearn.over_sampling import SMOTE\n",
    "import smtplib\n",
    "from email.mime.text import MIMEText\n",
    "from email.mime.multipart import MIMEMultipart\n",
    "\n",
    "# Load dataset\n",
    "file_path = 'credit_card_fraud_dataset.csv' #### ----->>> use the file where fraudlable is presnet(imp)\n",
    "data = pd.read_csv(file_path)\n",
    "\n",
    "import matplotlib.pyplot as plt\n",
    "\n",
    "plt.matshow(data[['TransactionAmount', 'PreviousTransactionAmount']].corr())\n",
    "plt.show()\n",
    "print(data[['TransactionAmount', 'PreviousTransactionAmount']].corr())\n",
    "\n",
    "# Data Preprocessing\n",
    "# Convert categorical variables to numeric\n",
    "label_encoders = {}\n",
    "for column in ['MerchantCategory', 'TransactionLocation', 'CardType', 'DeviceType', 'TransactionChannel']:\n",
    "    label_encoders[column] = LabelEncoder()\n",
    "    data[column] = label_encoders[column].fit_transform(data[column])\n",
    "\n",
    "# Feature Scaling\n",
    "scaler = StandardScaler()\n",
    "data[['TransactionAmount', 'PreviousTransactionAmount']] = scaler.fit_transform(\n",
    "    data[['TransactionAmount', 'PreviousTransactionAmount']])\n",
    "\n",
    "# Handling class imbalance using SMOTE\n",
    "X = data[['TransactionAmount', 'PreviousTransactionAmount']]\n",
    "y = data['FraudLabel']\n",
    "smote = SMOTE()\n",
    "X_resampled, y_resampled = smote.fit_resample(X, y)\n",
    "\n",
    "# Splitting the data into training and testing sets\n",
    "X_train, X_test, y_train, y_test = train_test_split(X_resampled, y_resampled, test_size=0.2, random_state=42)\n",
    "\n",
    "# Model Training\n",
    "# K-Nearest Neighbors\n",
    "knn = KNeighborsClassifier(n_neighbors=5)\n",
    "knn.fit(X_train, y_train)\n",
    "knn_pred = knn.predict(X_test)\n",
    "\n",
    "# Logistic Regression\n",
    "lr = LogisticRegression()\n",
    "lr.fit(X_train, y_train)\n",
    "lr_pred = lr.predict(X_test)\n",
    "\n",
    "# Model Evaluation\n",
    "print(\"K-Nearest Neighbors Classification Report\")\n",
    "print(classification_report(y_test, knn_pred))\n",
    "print(\"Confusion Matrix\")\n",
    "print(confusion_matrix(y_test, knn_pred))\n",
    "\n",
    "print(\"Logistic Regression Classification Report\")\n",
    "print(classification_report(y_test, lr_pred))\n",
    "print(\"Confusion Matrix\")\n",
    "print(confusion_matrix(y_test, lr_pred))\n",
    "\n"
   ]
  },
  {
   "cell_type": "markdown",
   "metadata": {},
   "source": [
    "Preditction "
   ]
  },
  {
   "cell_type": "code",
   "execution_count": 6,
   "metadata": {},
   "outputs": [],
   "source": [
    "# Load dataset\n",
    "file_path = 'credit_card_fraud_dataset_test.csv' ####----->>> using the file other file (imp)\n",
    "data_1 = pd.read_csv(file_path)\n",
    "data = pd.read_csv(file_path)\n",
    "\n",
    "# Data Preprocessing\n",
    "# Convert categorical variables to numeric\n",
    "label_encoders = {}\n",
    "for column in ['MerchantCategory', 'TransactionLocation', 'CardType', 'DeviceType', 'TransactionChannel']:\n",
    "    label_encoders[column] = LabelEncoder()\n",
    "    data[column] = label_encoders[column].fit_transform(data[column])\n",
    "\n",
    "# Feature Scaling\n",
    "scaler = StandardScaler()\n",
    "data[['TransactionAmount', 'PreviousTransactionAmount']] = scaler.fit_transform(\n",
    "    data[['TransactionAmount', 'PreviousTransactionAmount']])\n",
    "\n",
    "# Handling class imbalance using SMOTE\n",
    "X = data[['TransactionAmount', 'PreviousTransactionAmount']]\n",
    "# y = data['FraudLabel']\n",
    "# smote = SMOTE()\n",
    "# X_resampled, y_resampled = smote.fit_resample(X, y)\n",
    "\n",
    "# # Splitting the data into training and testing sets\n",
    "# X_train, X_test, y_train, y_test = train_test_split(X_resampled, y_resampled, test_size=0.2, random_state=42)\n",
    "\n",
    "# Model Training\n",
    "# K-Nearest Neighbors\n",
    "# knn = KNeighborsClassifier(n_neighbors=5)\n",
    "# knn.fit(X)\n",
    "knn_pred = knn.predict(X)\n",
    "\n",
    "# Logistic Regression\n",
    "# lr = LogisticRegression()\n",
    "# lr.fit(X_train, y_train)\n",
    "# lr_pred = lr.predict(X_test)\n",
    "\n",
    "# # Model Evaluation\n",
    "# print(\"K-Nearest Neighbors Classification Report\")\n",
    "# print(classification_report(y_test, knn_pred))\n",
    "# print(\"Confusion Matrix\")\n",
    "# print(confusion_matrix(y_test, knn_pred))\n",
    "\n",
    "# print(\"Logistic Regression Classification Report\")\n",
    "# print(classification_report(y_test, lr_pred))\n",
    "# print(\"Confusion Matrix\")\n",
    "# print(confusion_matrix(y_test, lr_pred))\n",
    "\n",
    "final = data_1.join(pd.DataFrame(knn_pred,columns=['Prediction']))"
   ]
  },
  {
   "cell_type": "code",
   "execution_count": 7,
   "metadata": {},
   "outputs": [],
   "source": [
    "##predicted data file\n",
    "final.to_csv('Creditcard_fraud_predictions.csv')"
   ]
  },
  {
   "cell_type": "code",
   "execution_count": null,
   "metadata": {},
   "outputs": [],
   "source": []
  }
 ],
 "metadata": {
  "kernelspec": {
   "display_name": "Python 3",
   "language": "python",
   "name": "python3"
  },
  "language_info": {
   "codemirror_mode": {
    "name": "ipython",
    "version": 3
   },
   "file_extension": ".py",
   "mimetype": "text/x-python",
   "name": "python",
   "nbconvert_exporter": "python",
   "pygments_lexer": "ipython3",
   "version": "3.12.1"
  }
 },
 "nbformat": 4,
 "nbformat_minor": 2
}
